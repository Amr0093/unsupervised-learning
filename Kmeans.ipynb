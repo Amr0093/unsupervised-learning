{
 "cells": [
  {
   "cell_type": "code",
   "execution_count": 32,
   "id": "25b1c771",
   "metadata": {},
   "outputs": [],
   "source": [
    "import matplotlib.pyplot as plt\n",
    "from kneed import KneeLocator\n",
    "from sklearn.datasets import make_blobs\n",
    "from sklearn.cluster import KMeans\n",
    "from sklearn.metrics import silhouette_score\n",
    "from sklearn.preprocessing import StandardScaler"
   ]
  },
  {
   "cell_type": "code",
   "execution_count": 46,
   "id": "1af093d7",
   "metadata": {},
   "outputs": [],
   "source": [
    "features, true_labels = make_blobs(\n",
    "    n_samples=400,\n",
    "    centers=2,\n",
    "    cluster_std=2.75,\n",
    "    random_state=42\n",
    ")"
   ]
  },
  {
   "cell_type": "code",
   "execution_count": 47,
   "id": "2bc253c3",
   "metadata": {},
   "outputs": [
    {
     "data": {
      "text/plain": [
       "array([[ 7.40718406e+00,  3.86717043e-01],\n",
       "       [ 4.97069182e+00,  3.38787648e+00],\n",
       "       [ 5.22017687e+00,  1.70720863e+00],\n",
       "       [-1.09281649e+00,  1.96092977e+01],\n",
       "       [ 4.20535712e+00,  7.99246742e-01],\n",
       "       [ 4.69057215e+00,  2.92901937e+00],\n",
       "       [ 2.22151456e-01,  2.53269468e+00],\n",
       "       [-2.30073509e+00,  7.15209142e+00],\n",
       "       [-4.78414528e-01,  9.48554890e+00],\n",
       "       [-1.92043983e+00,  5.58850449e+00],\n",
       "       [ 7.88294609e+00,  2.15884551e+00],\n",
       "       [-2.47344242e+00,  1.30115048e+01],\n",
       "       [ 6.27090730e+00,  1.12191698e+00],\n",
       "       [-9.71349666e+00,  1.12745180e+01],\n",
       "       [-2.60465499e+00,  5.80042152e+00],\n",
       "       [-2.34356455e+00,  1.57882019e+01],\n",
       "       [ 3.05375768e+00,  4.05049555e+00],\n",
       "       [-1.89294330e+00,  9.04891523e+00],\n",
       "       [-2.32349506e+00,  5.09622862e+00],\n",
       "       [-3.81529723e+00,  7.21763074e+00],\n",
       "       [-3.96603818e+00,  1.04257716e+01],\n",
       "       [ 7.85127951e+00,  2.67282700e+00],\n",
       "       [ 4.61795407e+00,  6.04301607e+00],\n",
       "       [ 6.58619666e+00,  4.26386050e-01],\n",
       "       [-3.37618805e+00,  1.11014515e+01],\n",
       "       [-1.70324832e+00,  7.04981973e+00],\n",
       "       [ 1.11869812e+00,  6.79885368e+00],\n",
       "       [ 6.43938439e+00,  1.82031184e+00],\n",
       "       [-6.40146716e+00,  7.85751149e+00],\n",
       "       [ 3.63994525e+00,  1.81656922e+00],\n",
       "       [ 3.89772276e+00, -7.18430534e-01],\n",
       "       [-2.51601848e-01,  6.08729154e+00],\n",
       "       [-1.59822319e+00,  1.16970352e+01],\n",
       "       [-2.60771923e+00,  1.33170562e+01],\n",
       "       [ 6.32883726e+00,  4.05631589e+00],\n",
       "       [ 6.89502695e-01,  9.04242705e+00],\n",
       "       [-4.66314418e+00,  8.12861696e+00],\n",
       "       [ 5.35411572e+00, -5.13701035e-01],\n",
       "       [-4.93980557e+00,  9.43703017e+00],\n",
       "       [ 3.06230832e+00,  4.69307596e-01],\n",
       "       [-1.09285064e+00,  1.04271975e+01],\n",
       "       [-3.08153381e+00,  7.65853356e+00],\n",
       "       [ 7.80038048e+00,  3.94345148e-02],\n",
       "       [-3.12372028e+00,  1.09777875e+01],\n",
       "       [ 7.18095314e+00,  1.46468881e+00],\n",
       "       [-8.07833974e+00,  9.52703549e+00],\n",
       "       [ 8.15820063e-03,  9.91835168e+00],\n",
       "       [ 2.27939494e+00,  3.89902185e+00],\n",
       "       [-6.21982100e-01,  4.57931748e+00],\n",
       "       [ 6.38002897e+00,  8.21757504e+00],\n",
       "       [ 5.53674465e+00, -1.46739265e+00],\n",
       "       [-1.08099471e+00,  1.32293181e+01],\n",
       "       [ 9.32368925e-01,  4.01714594e+00],\n",
       "       [ 7.55054618e+00, -2.86336390e+00],\n",
       "       [-5.03761427e+00,  1.32766057e+01],\n",
       "       [ 8.90554677e+00,  2.29127493e+00],\n",
       "       [ 3.93869149e+00,  6.10915040e+00],\n",
       "       [ 6.90359794e+00,  2.17479409e+00],\n",
       "       [ 4.54980734e+00,  4.78751563e-01],\n",
       "       [ 1.98633932e+00,  3.85981120e+00],\n",
       "       [ 4.95400487e+00,  2.38649953e+00],\n",
       "       [-5.55161880e+00,  5.72471791e+00],\n",
       "       [ 7.21299442e+00,  5.46994620e+00],\n",
       "       [ 4.21064867e-01,  5.48678094e+00],\n",
       "       [-1.88368280e+00,  1.26089287e+01],\n",
       "       [ 5.69605882e+00,  1.88325913e+00],\n",
       "       [ 7.93818008e-01,  3.52133508e+00],\n",
       "       [ 6.39600810e+00, -2.59601049e+00],\n",
       "       [ 6.76940219e-01,  6.75740975e+00],\n",
       "       [-2.33242757e+00,  6.05048799e+00],\n",
       "       [ 3.92600262e+00, -2.16047344e+00],\n",
       "       [-3.18401494e+00,  6.94151168e+00],\n",
       "       [-6.49142956e+00,  5.14376075e+00],\n",
       "       [ 5.14001104e+00,  2.65577630e+00],\n",
       "       [-4.81843269e+00,  7.36595635e+00],\n",
       "       [-2.95273333e+00,  1.01254260e+01],\n",
       "       [-2.72122732e+00,  9.95245406e+00],\n",
       "       [ 9.74808037e-01,  7.06819510e+00],\n",
       "       [-4.73255503e+00,  7.63445426e+00],\n",
       "       [-1.65420182e+00,  1.30715157e+01],\n",
       "       [ 5.10975879e+00,  1.46721551e+00],\n",
       "       [ 6.37900012e+00,  4.64769442e+00],\n",
       "       [ 3.40219879e+00,  3.68600700e+00],\n",
       "       [ 3.59148609e-01,  3.63969705e+00],\n",
       "       [ 3.41807237e+00,  3.01074604e+00],\n",
       "       [-4.78893390e+00,  7.47378827e+00],\n",
       "       [-4.48491923e+00,  8.42730646e+00],\n",
       "       [ 5.28781887e+00,  4.09304897e+00],\n",
       "       [ 2.91571943e+00,  6.95740322e+00],\n",
       "       [-2.56667701e+00,  9.33693643e+00],\n",
       "       [ 3.22674481e+00, -9.39667501e-01],\n",
       "       [ 3.37663636e+00, -3.63902332e-01],\n",
       "       [ 7.69221676e-01, -1.65826207e-01],\n",
       "       [-1.73646999e+00,  7.30186245e+00],\n",
       "       [ 1.03069356e+01,  6.80035700e+00],\n",
       "       [ 1.92913221e+00,  3.35929760e+00],\n",
       "       [-1.74829792e+00,  1.12890401e+01],\n",
       "       [ 1.70392266e+00,  1.58162610e+00],\n",
       "       [-2.15714354e+00, -2.18292269e-01],\n",
       "       [ 3.98277171e+00, -5.22630387e-01],\n",
       "       [ 5.72462223e+00,  8.15462362e-01],\n",
       "       [ 4.69052938e+00,  6.58337229e+00],\n",
       "       [ 7.03547177e+00,  1.07660497e+00],\n",
       "       [ 6.41466270e+00,  5.73690647e+00],\n",
       "       [ 8.82847005e+00,  3.45517230e+00],\n",
       "       [-5.81001274e+00,  8.09440773e+00],\n",
       "       [-5.78528224e+00,  1.08198086e+01],\n",
       "       [-3.73711374e+00,  1.13693828e+01],\n",
       "       [ 5.73766660e-01,  5.11849330e+00],\n",
       "       [ 1.13656968e+01,  2.32852793e+00],\n",
       "       [ 1.66695469e+00,  3.66699260e+00],\n",
       "       [ 4.94071452e+00,  3.96902790e+00],\n",
       "       [-2.44179464e+00,  1.03837814e+01],\n",
       "       [ 7.94321712e+00,  8.50962408e-01],\n",
       "       [-5.20834641e+00,  1.02850707e+01],\n",
       "       [-1.28869420e+00,  1.11445298e+01],\n",
       "       [-2.24223436e+00,  1.16780599e+01],\n",
       "       [ 6.59501875e+00,  3.19489379e+00],\n",
       "       [-5.05825642e+00,  8.85059140e+00],\n",
       "       [ 7.03129512e+00,  5.70117380e+00],\n",
       "       [-1.79451994e+00,  1.11642990e+01],\n",
       "       [ 3.11734325e+00, -1.32099452e+00],\n",
       "       [ 4.44692313e+00, -2.59447288e+00],\n",
       "       [ 9.11857159e+00, -1.82210933e+00],\n",
       "       [ 1.97993346e+00,  5.08139734e+00],\n",
       "       [ 5.82132894e+00,  2.54431082e+00],\n",
       "       [-5.00626383e+00,  5.13045095e+00],\n",
       "       [-1.80093405e+00,  8.80955986e+00],\n",
       "       [-4.83788035e+00,  4.84845626e+00],\n",
       "       [-2.49477745e+00,  9.14348276e+00],\n",
       "       [ 4.67818439e+00,  1.90682569e+00],\n",
       "       [ 1.00438084e+00,  7.38746481e+00],\n",
       "       [ 4.33097670e+00,  1.36550329e+00],\n",
       "       [-6.16170926e+00,  9.55565453e+00],\n",
       "       [-8.34991086e+00,  7.56845982e+00],\n",
       "       [-1.61796671e+00,  7.95530986e+00],\n",
       "       [-9.64963636e-01, -7.99067671e-01],\n",
       "       [-6.77352206e+00,  9.20283431e+00],\n",
       "       [ 6.75607279e-01,  1.11913585e+01],\n",
       "       [ 5.43675969e+00,  7.68052188e+00],\n",
       "       [ 5.38363511e+00,  1.83501488e+00],\n",
       "       [-3.15311940e+00,  8.37040950e+00],\n",
       "       [ 1.66697335e+00,  4.86934003e+00],\n",
       "       [-7.25272166e+00,  7.46799542e+00],\n",
       "       [-3.10782093e+00,  1.20359225e+01],\n",
       "       [-6.29778838e+00,  6.43526727e+00],\n",
       "       [ 1.91846558e+00,  1.62725565e+00],\n",
       "       [-6.57513310e+00,  7.03471456e+00],\n",
       "       [ 4.91304268e+00,  4.03948427e+00],\n",
       "       [-6.68746503e+00,  7.68264243e+00],\n",
       "       [ 3.15553972e+00, -1.67168311e-01],\n",
       "       [-4.81704581e+00,  8.16395209e+00],\n",
       "       [ 6.93316476e+00,  3.23591490e+00],\n",
       "       [-4.95536230e+00,  6.77080784e+00],\n",
       "       [-1.14226828e+01,  6.19722011e+00],\n",
       "       [-2.70722546e+00,  1.17740016e+01],\n",
       "       [ 3.38664862e+00,  1.07575634e+01],\n",
       "       [-4.37926561e+00,  9.65298380e+00],\n",
       "       [-6.33826952e-01,  8.16105255e+00],\n",
       "       [-4.77931491e+00,  8.13047506e+00],\n",
       "       [-4.68862965e+00,  8.69876091e+00],\n",
       "       [ 5.68542293e+00,  3.65228048e+00],\n",
       "       [-1.04558694e+00,  1.72808958e+00],\n",
       "       [ 2.10098741e+00, -1.74396298e+00],\n",
       "       [ 5.96265422e+00,  2.58885075e+00],\n",
       "       [ 4.43518691e+00,  3.68001795e+00],\n",
       "       [ 5.66052999e+00,  3.12210420e-01],\n",
       "       [ 3.26051064e-01,  1.15753065e+01],\n",
       "       [ 1.31068011e+01,  5.05200069e+00],\n",
       "       [ 3.18100068e+00,  3.89669522e-01],\n",
       "       [ 6.59681975e+00, -1.11959607e+00],\n",
       "       [-3.80701025e+00,  1.20089003e+01],\n",
       "       [ 1.45430392e+00,  5.06566521e+00],\n",
       "       [-1.51469855e+00,  7.24020680e+00],\n",
       "       [-2.19702492e+00,  1.08351455e+01],\n",
       "       [-2.80828803e+00,  1.01189934e+01],\n",
       "       [ 2.86180340e+00, -1.00108733e+00],\n",
       "       [ 3.32673192e+00,  1.18535656e+01],\n",
       "       [-2.54287625e+00,  6.54683661e+00],\n",
       "       [ 5.57074396e+00,  8.31127921e-01],\n",
       "       [-1.50633659e-01,  8.57445517e+00],\n",
       "       [-4.16389081e+00,  1.41080511e+01],\n",
       "       [-3.45166254e+00,  6.80802364e+00],\n",
       "       [ 7.49311368e+00,  5.70624587e-01],\n",
       "       [-7.22031758e+00,  1.27374352e+01],\n",
       "       [-4.32911040e+00,  1.13584778e+01],\n",
       "       [ 3.88348667e+00, -4.35711352e+00],\n",
       "       [ 1.58579526e+00,  6.79191340e+00],\n",
       "       [-4.54140209e-01,  1.06928044e+01],\n",
       "       [ 5.64802401e+00, -6.11499728e-01],\n",
       "       [ 1.38591793e+00, -3.63471880e+00],\n",
       "       [ 6.34985623e+00, -2.34494830e+00],\n",
       "       [ 4.83668599e+00,  6.59611705e-01],\n",
       "       [ 5.15348744e+00, -1.04133380e-01],\n",
       "       [ 1.17166183e+01,  2.13602038e+00],\n",
       "       [ 7.34262709e-01,  7.72405308e+00],\n",
       "       [-3.77595424e+00,  1.19213723e+01],\n",
       "       [ 2.95820488e+00, -1.89514833e+00],\n",
       "       [-5.18957222e+00,  1.11787688e+01],\n",
       "       [ 1.34848673e+00,  5.15919571e+00],\n",
       "       [ 1.08086910e+00,  9.07204669e+00],\n",
       "       [ 3.90043494e+00, -1.06977657e+00],\n",
       "       [-1.82034228e+00,  9.96701870e+00],\n",
       "       [ 2.67955293e+00,  2.26585281e+00],\n",
       "       [ 2.71563369e+00,  2.56161444e+00],\n",
       "       [-6.92977652e+00,  9.52202924e+00],\n",
       "       [-7.92868126e-01,  1.07422363e+01],\n",
       "       [ 3.85611344e+00,  3.87930685e+00],\n",
       "       [-3.23700391e+00,  1.64947513e+01],\n",
       "       [-1.56936869e+00,  1.41737559e+01],\n",
       "       [ 4.00480888e+00,  3.88773719e+00],\n",
       "       [ 3.97898399e+00,  9.42412463e-01],\n",
       "       [-9.39248719e-01,  1.21370916e+01],\n",
       "       [-1.93482274e+00,  3.62519329e+00],\n",
       "       [-4.47628282e+00,  1.08831799e+01],\n",
       "       [ 7.47005684e+00,  3.27281276e+00],\n",
       "       [-3.58749504e+00,  4.98962002e+00],\n",
       "       [ 4.77331331e+00, -3.11943136e-01],\n",
       "       [-4.97983797e+00,  1.03670638e+01],\n",
       "       [ 1.00428730e+01,  2.07014445e+00],\n",
       "       [-5.67442996e+00,  1.00474557e+01],\n",
       "       [ 1.05258771e+00,  3.81476919e+00],\n",
       "       [ 2.62168228e+00,  1.03173267e+01],\n",
       "       [ 5.55374237e+00, -8.51682916e-02],\n",
       "       [ 1.83363762e+00,  1.11247316e+01],\n",
       "       [ 5.12855659e+00, -1.69902730e+00],\n",
       "       [-2.48532183e-01,  1.42304668e+01],\n",
       "       [-2.24245872e+00,  1.06509679e+01],\n",
       "       [ 2.92162775e+00,  2.04492007e+00],\n",
       "       [-1.08542704e+00,  6.63842470e+00],\n",
       "       [ 7.18686709e+00,  7.22406545e+00],\n",
       "       [ 3.01079554e+00, -4.02804933e-01],\n",
       "       [ 6.72159753e+00, -5.62784958e-01],\n",
       "       [-2.31724189e+00,  7.95467374e+00],\n",
       "       [ 2.23192864e+00, -1.82952958e+00],\n",
       "       [-1.56424733e+00,  4.16592570e+00],\n",
       "       [-2.74751611e-01,  1.27439462e+01],\n",
       "       [ 6.33565117e-01,  1.10821020e+01],\n",
       "       [ 3.29896172e+00,  7.83634667e-01],\n",
       "       [ 4.73103415e-01,  5.73207392e+00],\n",
       "       [-3.71931996e+00,  9.37382272e+00],\n",
       "       [-5.29448320e+00,  9.87846629e+00],\n",
       "       [ 7.22015930e+00,  5.54046681e-01],\n",
       "       [ 1.72381644e-01,  8.60987833e+00],\n",
       "       [-2.39302663e-01,  1.12514376e+01],\n",
       "       [-4.59681244e+00,  9.42786904e+00],\n",
       "       [ 4.69193296e-01,  1.19122418e+01],\n",
       "       [ 5.53892911e+00,  1.37064323e+00],\n",
       "       [-6.11301646e-01,  7.91092983e+00],\n",
       "       [ 6.62447701e+00, -1.13172269e+00],\n",
       "       [-4.43984363e+00,  8.11321523e+00],\n",
       "       [-2.77655943e+00,  1.82385880e+00],\n",
       "       [-4.16095402e+00,  8.21212832e+00],\n",
       "       [-4.77030371e+00,  9.68442596e+00],\n",
       "       [-2.49513562e+00,  8.36917151e+00],\n",
       "       [ 6.01740110e+00, -7.15107239e-01],\n",
       "       [ 5.18461193e+00,  1.57617855e+00],\n",
       "       [-1.20779416e+00,  8.81400662e+00],\n",
       "       [-1.37363612e+00,  7.46404361e+00],\n",
       "       [-3.52979656e-02,  9.85935981e+00],\n",
       "       [ 4.71775437e+00,  2.05499907e+00],\n",
       "       [ 1.85659180e+00, -2.57768616e+00],\n",
       "       [ 6.22541048e+00,  2.82910761e+00],\n",
       "       [ 4.45815939e+00, -1.35712487e+00],\n",
       "       [ 6.09684033e+00,  5.93748339e+00],\n",
       "       [-3.03819028e+00,  9.84354132e+00],\n",
       "       [ 3.41205414e+00,  6.90408033e+00],\n",
       "       [-2.38387506e+00,  7.22238517e+00],\n",
       "       [ 4.46751132e+00,  4.59981107e+00],\n",
       "       [-5.04798947e-01,  1.00650760e+00],\n",
       "       [-4.51770586e+00,  9.60954725e+00],\n",
       "       [ 1.40086732e-01,  1.01494337e+01],\n",
       "       [ 5.56828616e+00,  8.40508027e-01],\n",
       "       [-2.26981819e+00,  8.19201591e+00],\n",
       "       [-5.45415199e+00,  1.03410853e+01],\n",
       "       [-2.56149219e+00,  6.25733038e+00],\n",
       "       [ 5.99650306e+00,  2.48146902e+00],\n",
       "       [-2.25685549e+00,  3.54847161e+00],\n",
       "       [-5.97662850e+00,  1.15384065e+01],\n",
       "       [ 6.92074418e+00, -4.10745242e+00],\n",
       "       [-1.43988955e-02,  6.17943306e+00],\n",
       "       [-4.37073312e+00,  1.06963959e+01],\n",
       "       [ 1.55501100e+00,  7.58904303e+00],\n",
       "       [ 2.46607408e+00,  3.26970767e+00],\n",
       "       [ 3.05687481e+00,  2.30869667e+00],\n",
       "       [ 3.96408541e+00,  1.22317987e+00],\n",
       "       [-6.13983894e+00,  1.40507977e+01],\n",
       "       [-1.96178346e+00,  7.36368972e+00],\n",
       "       [ 9.21993356e+00,  4.76268736e+00],\n",
       "       [ 2.34580154e+00,  1.01279858e+01],\n",
       "       [ 1.14307227e-01,  1.08056121e+01],\n",
       "       [ 2.27374208e+00,  9.15641937e-01],\n",
       "       [ 4.53110216e+00,  3.84729660e+00],\n",
       "       [-2.72025275e-01,  5.62940926e+00],\n",
       "       [-7.88612417e-01,  6.65710285e+00],\n",
       "       [-1.12048261e+00,  1.13951129e+01],\n",
       "       [ 1.95622739e+00,  4.87068462e+00],\n",
       "       [ 6.06344114e+00, -2.26258022e-02],\n",
       "       [-4.75930450e+00,  1.47683511e+01],\n",
       "       [ 3.14135135e+00,  3.07079400e+00],\n",
       "       [ 8.77136073e+00,  2.17693033e+00],\n",
       "       [-4.12995070e+00,  1.13506919e+01],\n",
       "       [ 3.69748795e+00,  9.51707302e-01],\n",
       "       [-1.62172158e+00,  6.73940103e+00],\n",
       "       [ 1.27902736e+00,  3.93391537e+00],\n",
       "       [ 5.34396061e+00,  4.67556989e+00],\n",
       "       [-2.82723040e+00,  8.18625097e+00],\n",
       "       [-1.52528238e+00,  1.05564436e+01],\n",
       "       [ 1.52133649e+00,  8.39340130e+00],\n",
       "       [ 4.53638340e+00,  5.00724986e+00],\n",
       "       [ 3.89901004e+00,  3.94641089e+00],\n",
       "       [-1.69486686e+00,  9.73218813e+00],\n",
       "       [-7.78581847e+00,  8.94137297e+00],\n",
       "       [ 2.54091616e+00, -2.99025609e+00],\n",
       "       [-1.84380138e+00,  3.75276546e+00],\n",
       "       [ 1.64137132e-01,  2.10540329e+00],\n",
       "       [ 4.90143131e-02,  3.46741021e+00],\n",
       "       [ 2.55991429e+00, -1.93802802e+00],\n",
       "       [-4.44228720e-02,  1.82041351e+00],\n",
       "       [ 4.79312235e+00,  4.98219636e+00],\n",
       "       [ 8.06661312e+00, -3.72865346e+00],\n",
       "       [-4.63446696e+00,  8.36303496e+00],\n",
       "       [ 9.27951833e+00,  4.39767902e+00],\n",
       "       [ 9.81544620e+00,  5.67307481e+00],\n",
       "       [-2.23515637e+00,  7.62972808e+00],\n",
       "       [-2.73826796e-01,  1.07457654e+01],\n",
       "       [-5.91081208e+00,  5.38303044e+00],\n",
       "       [-3.33859769e-01,  6.51347063e+00],\n",
       "       [ 2.81766350e+00,  3.54231602e+00],\n",
       "       [ 2.67781361e+00,  9.49437511e+00],\n",
       "       [-6.89387368e+00,  7.36600482e+00],\n",
       "       [ 2.64025160e+00,  1.29249344e+00],\n",
       "       [ 3.18167039e+00, -2.07230605e-01],\n",
       "       [-2.65028814e+00,  4.97481353e+00],\n",
       "       [-5.23317252e+00,  7.45696737e+00],\n",
       "       [-4.00625012e+00,  9.31932325e+00],\n",
       "       [-4.22525300e-01, -1.54566697e+00],\n",
       "       [ 3.71647091e+00,  6.56297888e+00],\n",
       "       [ 5.95707336e+00,  2.89074047e+00],\n",
       "       [-2.82418220e+00,  1.24182810e+01],\n",
       "       [-8.95340615e-01,  1.50380391e+01],\n",
       "       [ 2.70293369e+00, -1.90009888e+00],\n",
       "       [-1.10315872e-01,  9.51847664e+00],\n",
       "       [ 1.85234862e+00,  5.61029351e+00],\n",
       "       [ 3.64722188e+00,  5.16132664e+00],\n",
       "       [ 5.40979256e+00, -1.12192520e+00],\n",
       "       [-1.07385832e+00,  9.83099398e+00],\n",
       "       [ 1.04467932e-01,  7.42780108e+00],\n",
       "       [-1.00467982e+00,  8.45825633e+00],\n",
       "       [ 5.38672064e+00, -1.53788890e+00],\n",
       "       [-1.52740504e+00,  7.10878474e+00],\n",
       "       [ 9.72450810e+00,  5.07122352e+00],\n",
       "       [-1.61774015e+00,  8.65639273e+00],\n",
       "       [-2.92660663e+00,  1.06321584e+01],\n",
       "       [-3.80025218e+00,  1.05063262e+01],\n",
       "       [-2.56010875e+00,  8.22047487e+00],\n",
       "       [-5.43053284e+00,  1.03166653e+01],\n",
       "       [ 3.19744810e+00,  3.31894973e+00],\n",
       "       [ 5.48633370e+00, -2.72979340e+00],\n",
       "       [ 2.84732954e+00,  2.10351603e+00],\n",
       "       [ 4.28810546e+00, -6.54566528e-01],\n",
       "       [ 5.76257391e+00, -2.70893523e+00],\n",
       "       [ 6.22682719e+00,  1.41479487e+00],\n",
       "       [ 1.48144730e+00,  1.16522809e+01],\n",
       "       [ 9.16354005e+00,  1.28832058e+00],\n",
       "       [ 4.85264168e+00, -3.95361870e-01],\n",
       "       [ 1.09248636e+00, -1.58829694e+00],\n",
       "       [-3.82692678e+00,  8.50372394e+00],\n",
       "       [ 2.51195854e+00, -1.44963075e+00],\n",
       "       [ 6.17930257e+00,  4.94531668e+00],\n",
       "       [ 1.16801113e+01,  1.70900496e+00],\n",
       "       [-2.03295008e+00,  1.00739089e+01],\n",
       "       [ 4.87800075e+00,  1.54505729e+00],\n",
       "       [ 3.35664416e+00,  3.64604468e+00],\n",
       "       [ 6.93803214e+00, -1.13352417e+00],\n",
       "       [ 1.78745191e+00,  1.44973832e+00],\n",
       "       [ 2.85061177e+00,  6.33574879e-01],\n",
       "       [-1.51535971e+00,  1.32438867e+01],\n",
       "       [-1.83553955e+00,  7.62019240e+00],\n",
       "       [ 4.34554535e+00, -8.73746703e-01],\n",
       "       [ 9.02114206e+00,  5.67326574e-01],\n",
       "       [ 4.54366049e+00,  6.84287143e+00],\n",
       "       [ 4.90421097e+00,  7.01912640e-01],\n",
       "       [-2.47199115e-01,  5.65696609e+00],\n",
       "       [-5.27574542e+00,  5.67526744e+00],\n",
       "       [ 3.95522743e+00,  4.64498980e+00],\n",
       "       [ 3.20239053e+00,  4.85794505e+00],\n",
       "       [-3.78359628e+00,  7.73352931e+00],\n",
       "       [ 2.02903189e+00,  9.21222036e+00],\n",
       "       [-2.54631499e+00,  6.10558107e+00],\n",
       "       [-3.11329531e+00,  9.99634570e+00],\n",
       "       [ 5.17845329e+00, -7.17355455e-01],\n",
       "       [-2.24058835e+00,  6.88850922e+00],\n",
       "       [-3.80455296e+00,  9.65242346e+00],\n",
       "       [ 6.92330233e+00, -3.81060837e-01],\n",
       "       [-3.20376004e+00,  5.58288238e+00],\n",
       "       [-2.34912365e+00,  5.87111781e+00],\n",
       "       [ 5.77682482e+00,  7.13435817e+00],\n",
       "       [ 3.51276044e+00,  6.79146584e+00],\n",
       "       [-3.84394738e+00,  9.23944001e+00]])"
      ]
     },
     "execution_count": 47,
     "metadata": {},
     "output_type": "execute_result"
    }
   ],
   "source": [
    "features"
   ]
  },
  {
   "cell_type": "code",
   "execution_count": 48,
   "id": "a49335ee",
   "metadata": {},
   "outputs": [
    {
     "data": {
      "text/plain": [
       "array([1, 1, 1, 0, 1, 1, 1, 0, 0, 0, 1, 0, 1, 0, 0, 0, 1, 0, 0, 0, 0, 1,\n",
       "       1, 1, 0, 0, 1, 1, 0, 1, 1, 1, 0, 0, 1, 0, 0, 1, 0, 1, 0, 0, 1, 0,\n",
       "       1, 0, 0, 1, 0, 1, 1, 0, 1, 1, 0, 1, 1, 1, 1, 1, 1, 0, 1, 1, 0, 1,\n",
       "       1, 1, 0, 0, 1, 0, 0, 1, 0, 0, 0, 0, 0, 0, 1, 1, 1, 1, 1, 0, 0, 1,\n",
       "       1, 0, 1, 1, 1, 0, 1, 1, 0, 1, 1, 1, 1, 1, 1, 1, 1, 0, 0, 0, 1, 1,\n",
       "       1, 1, 0, 1, 0, 0, 0, 1, 0, 1, 0, 1, 1, 1, 0, 1, 0, 0, 0, 0, 1, 0,\n",
       "       1, 0, 0, 0, 1, 0, 0, 1, 1, 0, 1, 0, 0, 0, 1, 0, 1, 0, 1, 0, 1, 0,\n",
       "       0, 0, 0, 0, 0, 0, 0, 1, 1, 1, 1, 1, 1, 0, 1, 1, 1, 0, 0, 0, 0, 0,\n",
       "       1, 0, 0, 1, 0, 0, 0, 1, 0, 0, 1, 1, 0, 1, 1, 1, 1, 1, 1, 0, 0, 1,\n",
       "       0, 0, 0, 1, 0, 1, 1, 0, 0, 0, 0, 0, 1, 1, 0, 0, 0, 1, 0, 1, 0, 1,\n",
       "       0, 1, 0, 1, 0, 1, 0, 0, 1, 1, 1, 1, 1, 0, 1, 0, 0, 0, 1, 1, 0, 0,\n",
       "       1, 0, 0, 0, 0, 1, 0, 1, 0, 1, 0, 0, 0, 1, 1, 0, 0, 0, 1, 1, 1, 1,\n",
       "       1, 0, 0, 0, 1, 1, 0, 0, 1, 0, 0, 0, 1, 0, 0, 1, 1, 0, 0, 1, 1, 1,\n",
       "       0, 0, 1, 0, 0, 1, 1, 0, 0, 0, 1, 1, 0, 1, 1, 0, 1, 0, 1, 1, 0, 0,\n",
       "       0, 1, 1, 0, 0, 1, 0, 1, 1, 1, 1, 1, 1, 0, 1, 1, 0, 0, 0, 0, 1, 0,\n",
       "       0, 1, 1, 1, 0, 0, 1, 1, 1, 0, 0, 1, 0, 0, 1, 1, 0, 0, 0, 1, 0, 1,\n",
       "       0, 0, 0, 0, 0, 1, 1, 1, 1, 1, 1, 0, 1, 1, 1, 0, 1, 1, 1, 0, 1, 0,\n",
       "       1, 1, 1, 0, 0, 1, 1, 1, 1, 0, 0, 1, 1, 0, 1, 0, 0, 1, 0, 0, 1, 0,\n",
       "       0, 1, 0, 0])"
      ]
     },
     "execution_count": 48,
     "metadata": {},
     "output_type": "execute_result"
    }
   ],
   "source": [
    "true_labels"
   ]
  },
  {
   "cell_type": "code",
   "execution_count": 49,
   "id": "4cab8847",
   "metadata": {},
   "outputs": [],
   "source": [
    "scaler = StandardScaler()\n",
    "scaled_features = scaler.fit_transform(features)"
   ]
  },
  {
   "cell_type": "code",
   "execution_count": 50,
   "id": "c91b2411",
   "metadata": {},
   "outputs": [
    {
     "data": {
      "text/plain": [
       "(array([7.40718406, 0.38671704]), array([ 1.44616772, -1.14192103]))"
      ]
     },
     "execution_count": 50,
     "metadata": {},
     "output_type": "execute_result"
    }
   ],
   "source": [
    "features[0] , scaled_features[0]"
   ]
  },
  {
   "cell_type": "code",
   "execution_count": 51,
   "id": "5dfc281e",
   "metadata": {},
   "outputs": [],
   "source": [
    "kmeans = KMeans(\n",
    "    init=\"random\",\n",
    "    n_clusters=4,\n",
    "    random_state=42\n",
    ")"
   ]
  },
  {
   "cell_type": "code",
   "execution_count": 52,
   "id": "406ac39e",
   "metadata": {},
   "outputs": [
    {
     "data": {
      "text/plain": [
       "KMeans(init='random', n_clusters=4, random_state=42)"
      ]
     },
     "execution_count": 52,
     "metadata": {},
     "output_type": "execute_result"
    }
   ],
   "source": [
    "kmeans.fit(scaled_features)"
   ]
  },
  {
   "cell_type": "code",
   "execution_count": 53,
   "id": "d549b341",
   "metadata": {
    "scrolled": true
   },
   "outputs": [
    {
     "data": {
      "text/plain": [
       "array([[-1.18996359,  0.56801662],\n",
       "       [ 0.30386765, -0.20723291],\n",
       "       [-0.5139461 ,  1.28059501],\n",
       "       [ 1.03847503, -1.12332446]])"
      ]
     },
     "execution_count": 53,
     "metadata": {},
     "output_type": "execute_result"
    }
   ],
   "source": [
    "kmeans.cluster_centers_"
   ]
  },
  {
   "cell_type": "code",
   "execution_count": 54,
   "id": "f97a1814",
   "metadata": {},
   "outputs": [
    {
     "data": {
      "text/plain": [
       "(array([[ 1.44616772, -1.14192103],\n",
       "        [ 0.89710371, -0.47284916],\n",
       "        [ 0.95332521, -0.84753354],\n",
       "        [-0.4693091 ,  3.14351877],\n",
       "        [ 0.72463538, -1.04995257]]),\n",
       " array([1, 1, 1, 0, 1]))"
      ]
     },
     "execution_count": 54,
     "metadata": {},
     "output_type": "execute_result"
    }
   ],
   "source": [
    "scaled_features[:5], true_labels[:5]"
   ]
  },
  {
   "cell_type": "code",
   "execution_count": 55,
   "id": "f50482c8",
   "metadata": {},
   "outputs": [
    {
     "data": {
      "text/plain": [
       "array([3, 1, 3, 2, 3], dtype=int32)"
      ]
     },
     "execution_count": 55,
     "metadata": {},
     "output_type": "execute_result"
    }
   ],
   "source": [
    "kmeans.labels_[:5]"
   ]
  },
  {
   "cell_type": "code",
   "execution_count": 56,
   "id": "e06dfc61",
   "metadata": {
    "scrolled": true
   },
   "outputs": [
    {
     "data": {
      "text/plain": [
       "<matplotlib.collections.PathCollection at 0x7fcb9258d7f0>"
      ]
     },
     "execution_count": 56,
     "metadata": {},
     "output_type": "execute_result"
    },
    {
     "data": {
      "image/png": "[encoded data removed]",
      "text/plain": [
       "<Figure size 432x288 with 1 Axes>"
      ]
     },
     "metadata": {},
     "output_type": "display_data"
    }
   ],
   "source": [
    "plt.scatter(scaled_features[:,0], scaled_features[:,1])"
   ]
  },
  {
   "cell_type": "code",
   "execution_count": 57,
   "id": "8a9e3cd3",
   "metadata": {},
   "outputs": [],
   "source": [
    "kmeans_kwargs = {\n",
    "    \"init\": \"random\",\n",
    "    \"n_init\": 10,\n",
    "    \"random_state\": 42,\n",
    "}\n",
    "\n",
    "# A list holds the SSE values for each k\n",
    "sse = []\n",
    "for k in range(1, 11):\n",
    "    kmeans = KMeans(n_clusters=k, **kmeans_kwargs)\n",
    "    kmeans.fit(scaled_features)\n",
    "    sse.append(kmeans.inertia_)"
   ]
  },
  {
   "cell_type": "code",
   "execution_count": 58,
   "id": "40c22adc",
   "metadata": {},
   "outputs": [
    {
     "data": {
      "image/png": "[encoded data removed]",
      "text/plain": [
       "<Figure size 432x288 with 1 Axes>"
      ]
     },
     "metadata": {},
     "output_type": "display_data"
    }
   ],
   "source": [
    " plt.style.use(\"fivethirtyeight\")\n",
    " plt.plot(range(1, 11), sse)\n",
    " plt.xticks(range(1, 11))\n",
    " plt.xlabel(\"Number of Clusters\")\n",
    " plt.ylabel(\"SSE\")\n",
    " plt.show()"
   ]
  },
  {
   "cell_type": "code",
   "execution_count": null,
   "id": "73e57986",
   "metadata": {},
   "outputs": [],
   "source": []
  },
  {
   "cell_type": "code",
   "execution_count": null,
   "id": "7cdb6a28",
   "metadata": {},
   "outputs": [],
   "source": []
  }
 ],
 "metadata": {
  "kernelspec": {
   "display_name": "Python 3 (ipykernel)",
   "language": "python",
   "name": "python3"
  },
  "language_info": {
   "codemirror_mode": {
    "name": "ipython",
    "version": 3
   },
   "file_extension": ".py",
   "mimetype": "text/x-python",
   "name": "python",
   "nbconvert_exporter": "python",
   "pygments_lexer": "ipython3",
   "version": "3.9.7"
  }
 },
 "nbformat": 4,
 "nbformat_minor": 5
}
